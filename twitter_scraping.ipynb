{
 "cells": [
  {
   "cell_type": "code",
   "execution_count": 1,
   "id": "dd705054",
   "metadata": {},
   "outputs": [],
   "source": [
    "import pandas as pd"
   ]
  },
  {
   "cell_type": "code",
   "execution_count": 2,
   "id": "dd1d8ddd",
   "metadata": {},
   "outputs": [],
   "source": [
    "from selenium import webdriver\n",
    "from selenium.webdriver.common.keys import Keys\n",
    "from selenium.webdriver.support import expected_conditions as EC\n",
    "from selenium.webdriver.common.by import By\n",
    "from selenium.webdriver.support.wait import WebDriverWait\n"
   ]
  },
  {
   "cell_type": "markdown",
   "id": "b9f8ad36",
   "metadata": {},
   "source": [
    "# Setting up the driver path"
   ]
  },
  {
   "cell_type": "code",
   "execution_count": 3,
   "id": "77a62481",
   "metadata": {},
   "outputs": [
    {
     "name": "stderr",
     "output_type": "stream",
     "text": [
      "C:\\Users\\rajva\\AppData\\Local\\Temp/ipykernel_15948/350919341.py:1: DeprecationWarning: executable_path has been deprecated, please pass in a Service object\n",
      "  driver=webdriver.Chrome('C:/Users/rajva/Downloads/chromedriver_win32 (1)/chromedriver.exe')\n"
     ]
    }
   ],
   "source": [
    "driver=webdriver.Chrome('C:/Users/rajva/Downloads/chromedriver_win32 (1)/chromedriver.exe')"
   ]
  },
  {
   "cell_type": "markdown",
   "id": "e5cd136c",
   "metadata": {},
   "source": [
    "\n",
    "# Getting the profile url"
   ]
  },
  {
   "cell_type": "code",
   "execution_count": 4,
   "id": "31ff7c97",
   "metadata": {},
   "outputs": [],
   "source": [
    "\n",
    "driver.get(\"https://twitter.com/sachin_rt?ref_src=twsrc%5Egoogle%7Ctwcamp%5Eserp%7Ctwgr%5Eauthor\")"
   ]
  },
  {
   "cell_type": "markdown",
   "id": "bb947aca",
   "metadata": {},
   "source": [
    "## Scraping the number of following"
   ]
  },
  {
   "cell_type": "code",
   "execution_count": 7,
   "id": "d1837105",
   "metadata": {},
   "outputs": [
    {
     "data": {
      "text/plain": [
       "81"
      ]
     },
     "execution_count": 7,
     "metadata": {},
     "output_type": "execute_result"
    }
   ],
   "source": [
    "following_count =int(driver.find_element(\"css selector\",'a[href=\"/sachin_rt/following\"]>span>span').text)\n",
    "following_count"
   ]
  },
  {
   "cell_type": "markdown",
   "id": "77ec94fc",
   "metadata": {},
   "source": [
    "## Scraping the number of followers"
   ]
  },
  {
   "cell_type": "code",
   "execution_count": 6,
   "id": "8554ca73",
   "metadata": {},
   "outputs": [
    {
     "data": {
      "text/plain": [
       "'37.7M'"
      ]
     },
     "execution_count": 6,
     "metadata": {},
     "output_type": "execute_result"
    }
   ],
   "source": [
    "followers_count = driver.find_element(\"css selector\",'a[href=\"/sachin_rt/followers\"]>span>span').text\n",
    "followers_count"
   ]
  },
  {
   "cell_type": "markdown",
   "id": "f6b9a5a6",
   "metadata": {},
   "source": [
    "# Scraping the user id"
   ]
  },
  {
   "cell_type": "code",
   "execution_count": null,
   "id": "bcccbcc4",
   "metadata": {},
   "outputs": [],
   "source": [
    "\n",
    "cards = driver.find_elements(\"xpath\",'//div[@data-testid=\"UserName\"]')"
   ]
  },
  {
   "cell_type": "code",
   "execution_count": 27,
   "id": "53f1e25e",
   "metadata": {},
   "outputs": [],
   "source": [
    "card=cards[0]"
   ]
  },
  {
   "cell_type": "code",
   "execution_count": 41,
   "id": "067da5af",
   "metadata": {},
   "outputs": [
    {
     "data": {
      "text/plain": [
       "'@sachin_rt'"
      ]
     },
     "execution_count": 41,
     "metadata": {},
     "output_type": "execute_result"
    }
   ],
   "source": [
    "user_id = card.find_element(\"xpath\",'//span[contains(text(),\"@\")]').text\n",
    "user_id"
   ]
  },
  {
   "cell_type": "code",
   "execution_count": null,
   "id": "3312e76a",
   "metadata": {},
   "outputs": [],
   "source": []
  },
  {
   "cell_type": "code",
   "execution_count": 49,
   "id": "c67d415d",
   "metadata": {},
   "outputs": [
    {
     "name": "stdout",
     "output_type": "stream",
     "text": [
      "followers_count: 37.7M\n",
      "following_count: 81\n",
      "user_id: @sachin_rt\n"
     ]
    }
   ],
   "source": [
    "print('followers_count:',followers_count)\n",
    "print('following_count:',following_count)\n",
    "print('user_id:',user_id)"
   ]
  },
  {
   "cell_type": "code",
   "execution_count": null,
   "id": "5f2e0a75",
   "metadata": {},
   "outputs": [],
   "source": []
  }
 ],
 "metadata": {
  "kernelspec": {
   "display_name": "Python 3 (ipykernel)",
   "language": "python",
   "name": "python3"
  },
  "language_info": {
   "codemirror_mode": {
    "name": "ipython",
    "version": 3
   },
   "file_extension": ".py",
   "mimetype": "text/x-python",
   "name": "python",
   "nbconvert_exporter": "python",
   "pygments_lexer": "ipython3",
   "version": "3.9.7"
  }
 },
 "nbformat": 4,
 "nbformat_minor": 5
}
