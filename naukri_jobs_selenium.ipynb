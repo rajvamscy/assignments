{
 "cells": [
  {
   "cell_type": "code",
   "execution_count": 1,
   "id": "0e1e9144",
   "metadata": {},
   "outputs": [],
   "source": [
    "from selenium import webdriver\n",
    "from selenium.webdriver.common.keys import Keys\n",
    "from selenium.webdriver.support import expected_conditions as EC\n",
    "from selenium.webdriver.common.by import By\n",
    "from selenium.webdriver.support.wait import WebDriverWait"
   ]
  },
  {
   "cell_type": "code",
   "execution_count": 2,
   "id": "18621d79",
   "metadata": {},
   "outputs": [
    {
     "name": "stderr",
     "output_type": "stream",
     "text": [
      "C:\\Users\\rajva\\AppData\\Local\\Temp/ipykernel_25884/350919341.py:1: DeprecationWarning: executable_path has been deprecated, please pass in a Service object\n",
      "  driver=webdriver.Chrome('C:/Users/rajva/Downloads/chromedriver_win32 (1)/chromedriver.exe')\n"
     ]
    }
   ],
   "source": [
    "driver=webdriver.Chrome('C:/Users/rajva/Downloads/chromedriver_win32 (1)/chromedriver.exe')"
   ]
  },
  {
   "cell_type": "markdown",
   "id": "139c2cf0",
   "metadata": {},
   "source": [
    "# Getting the job url"
   ]
  },
  {
   "cell_type": "code",
   "execution_count": 3,
   "id": "ee7a0159",
   "metadata": {},
   "outputs": [],
   "source": [
    "driver.get(\"https://www.naukri.com/job-listings-java-developer-deskera-pune-1-to-5-years-010922005801?src=jobsearchDesk&sid=16621496608081494&xp=1&px=1\")"
   ]
  },
  {
   "cell_type": "markdown",
   "id": "a8713114",
   "metadata": {},
   "source": [
    "# Scrapping the website"
   ]
  },
  {
   "cell_type": "code",
   "execution_count": 37,
   "id": "50b7811f",
   "metadata": {},
   "outputs": [],
   "source": [
    "title = driver.find_element(By.CLASS_NAME, \"jd-header-title\").text\n"
   ]
  },
  {
   "cell_type": "code",
   "execution_count": 39,
   "id": "f3527ce3",
   "metadata": {},
   "outputs": [],
   "source": [
    "loc = driver.find_element(By.CLASS_NAME, \"location\").text\n"
   ]
  },
  {
   "cell_type": "code",
   "execution_count": 44,
   "id": "fe7ea050",
   "metadata": {},
   "outputs": [],
   "source": [
    "sal = driver.find_element(By.CLASS_NAME, \"salary\").text\n"
   ]
  },
  {
   "cell_type": "code",
   "execution_count": 45,
   "id": "443ec83a",
   "metadata": {},
   "outputs": [],
   "source": [
    "exp = driver.find_element(By.CLASS_NAME, \"exp\").text\n"
   ]
  },
  {
   "cell_type": "code",
   "execution_count": 46,
   "id": "f04d17a4",
   "metadata": {},
   "outputs": [],
   "source": [
    "\n",
    "comp = driver.find_element(By.CSS_SELECTOR,\"div[class='jd-top-head'] a[title='Deskera Careers']\").text\n"
   ]
  },
  {
   "cell_type": "code",
   "execution_count": 47,
   "id": "20f67ec8",
   "metadata": {},
   "outputs": [],
   "source": [
    "degree = driver.find_element(By.CSS_SELECTOR,\"div[class='education'] span\").text\n"
   ]
  },
  {
   "cell_type": "code",
   "execution_count": 28,
   "id": "68efc4c2",
   "metadata": {},
   "outputs": [],
   "source": [
    "sk1= driver.find_element(By.XPATH,\"//li[contains(text(),'Experience in Java and Java J2EE, JDBC, Servlets &')]\").text"
   ]
  },
  {
   "cell_type": "code",
   "execution_count": 29,
   "id": "dc5518b8",
   "metadata": {},
   "outputs": [],
   "source": [
    "sk2 = driver.find_element(By.XPATH,\"//li[contains(text(),'Experience with Spring & Hibernate • Experience wo')]\").text"
   ]
  },
  {
   "cell_type": "code",
   "execution_count": 31,
   "id": "f85eb4b1",
   "metadata": {},
   "outputs": [],
   "source": [
    "sk3 = driver.find_element(By.XPATH,\"//div[@class='dang-inner-html']//li[contains(text(),'Designing and developing high performance and scal')]\").text"
   ]
  },
  {
   "cell_type": "code",
   "execution_count": 34,
   "id": "7597ff50",
   "metadata": {},
   "outputs": [],
   "source": [
    "sk4 = driver.find_element(By.XPATH,\"//li[contains(text(),'Experience with scaling')]\").text"
   ]
  },
  {
   "cell_type": "markdown",
   "id": "f089df4d",
   "metadata": {},
   "source": [
    "# Output"
   ]
  },
  {
   "cell_type": "code",
   "execution_count": 57,
   "id": "9c336dd4",
   "metadata": {},
   "outputs": [
    {
     "name": "stdout",
     "output_type": "stream",
     "text": [
      "Company_name: Deskera\n",
      "Job_title: Java Developer\n",
      "Location: Pune\n",
      "Salary: Not Disclosed\n",
      "Experience: 1 - 5 years\n",
      "Education: B.Tech/B.E. in Any Specialization\n",
      "Skills: Experience in Java and Java J2EE, JDBC, Servlets & JSP, HTML, XML, Ajax, Spring and Hibernate Framework. Experience with Spring & Hibernate • Experience working with MYSQL server and other databases . Java fundamentals and Design Patterns knowledge should be strong • Designing and developing high performance and scalable applications which will be used by millions of users. Experience with scaling web-based applications and web security issues.\n"
     ]
    }
   ],
   "source": [
    "print('Company_name:',comp)\n",
    "print('Job_title:',title)\n",
    "print('Location:',loc)\n",
    "print('Salary:',sal)\n",
    "print('Experience:',exp)\n",
    "print('Education:',degree)\n",
    "print('Skills:',sk1,sk2,sk3,sk4)"
   ]
  },
  {
   "cell_type": "code",
   "execution_count": null,
   "id": "b08972bf",
   "metadata": {},
   "outputs": [],
   "source": []
  }
 ],
 "metadata": {
  "kernelspec": {
   "display_name": "Python 3 (ipykernel)",
   "language": "python",
   "name": "python3"
  },
  "language_info": {
   "codemirror_mode": {
    "name": "ipython",
    "version": 3
   },
   "file_extension": ".py",
   "mimetype": "text/x-python",
   "name": "python",
   "nbconvert_exporter": "python",
   "pygments_lexer": "ipython3",
   "version": "3.9.7"
  }
 },
 "nbformat": 4,
 "nbformat_minor": 5
}
