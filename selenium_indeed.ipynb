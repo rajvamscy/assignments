{
 "cells": [
  {
   "cell_type": "code",
   "execution_count": 9,
   "id": "8be05cbf",
   "metadata": {},
   "outputs": [],
   "source": [
    "from selenium import webdriver\n",
    "from selenium.webdriver.common.keys import Keys\n",
    "from selenium.webdriver.support import expected_conditions as EC\n",
    "from selenium.webdriver.common.by import By\n",
    "from selenium.webdriver.support.wait import WebDriverWait"
   ]
  },
  {
   "cell_type": "code",
   "execution_count": 10,
   "id": "9a8f9106",
   "metadata": {},
   "outputs": [
    {
     "name": "stderr",
     "output_type": "stream",
     "text": [
      "C:\\Users\\rajva\\AppData\\Local\\Temp/ipykernel_27668/350919341.py:1: DeprecationWarning: executable_path has been deprecated, please pass in a Service object\n",
      "  driver=webdriver.Chrome('C:/Users/rajva/Downloads/chromedriver_win32 (1)/chromedriver.exe')\n"
     ]
    }
   ],
   "source": [
    "driver=webdriver.Chrome('C:/Users/rajva/Downloads/chromedriver_win32 (1)/chromedriver.exe')"
   ]
  },
  {
   "cell_type": "markdown",
   "id": "a0e3cf6d",
   "metadata": {},
   "source": [
    "# Scrapping the Website"
   ]
  },
  {
   "cell_type": "code",
   "execution_count": 11,
   "id": "19ae373d",
   "metadata": {},
   "outputs": [],
   "source": [
    "driver.get(\"https://in.indeed.com/viewjob?jk=fe8cfbe791ee48be&q=java&tk=1gc0rn670tial800&from=web&advn=2741574454480948&adid=387719255&ad=-6NYlbfkN0A1q6x1mN0P_wCigYEPqPy8Z490NYurVToaVVNYwVWvYomSdDF_9LxXIWwfhhRdifFvLE1-eK5GJX0sHXOPswbqAqFUUCzpobrYhfxGt0eeSAZ8zQIDkbTOorUgvlMq8IC03yevdVWIrnUA3Tf9fAANv58msZ85g4pf0EHUups2qFAsSJPrH8SUD9j-5KyjHWrwBRfAu3e-FI-P5-5syQv1u7P1zQskzM__3La5IWxn6pzXvNl0mINAVMVLv2KmXdNvU9UE9cMXX0wyEfoi7J1eti9DQwcsegLayn4EJvBHehvnhJHeFydUw3A6enWuVy40Jl8k5CUKhE2nscmLdgII3bzvQVL4sNN7ojd89Of86Ee1jbQEOQba&pub=4a1b367933fd867b19b072952f68dceb&xkcb=SoAj-_M3ZA_TFQ31BZ0ObzkdCdPP&vjs=3\")"
   ]
  },
  {
   "cell_type": "code",
   "execution_count": 17,
   "id": "0e4b2d1c",
   "metadata": {},
   "outputs": [],
   "source": [
    "title = driver.find_element(By.XPATH,\"//div[@class='jobsearch-JobInfoHeader-title-container ']\").text"
   ]
  },
  {
   "cell_type": "code",
   "execution_count": 18,
   "id": "9ba5e463",
   "metadata": {},
   "outputs": [],
   "source": [
    "comp = driver.find_element(By.XPATH,\"//a[normalize-space()='Calyx']\").text"
   ]
  },
  {
   "cell_type": "code",
   "execution_count": 25,
   "id": "ad26474a",
   "metadata": {},
   "outputs": [],
   "source": [
    "loc = driver.find_element(By.XPATH,\"//div[contains(text(),'Hyderabad')]\").text"
   ]
  },
  {
   "cell_type": "code",
   "execution_count": 27,
   "id": "7b420a10",
   "metadata": {},
   "outputs": [],
   "source": [
    "sal = driver.find_element(By.XPATH,\"//span[@class='icl-u-xs-mr--xs']\").text"
   ]
  },
  {
   "cell_type": "code",
   "execution_count": 39,
   "id": "a5776cac",
   "metadata": {},
   "outputs": [],
   "source": [
    "q1 = driver.find_element(By.XPATH,\"//li[1]//p[1]\").text\n",
    "q2 = driver.find_element(By.XPATH,\"//p[normalize-space()='Java: 2 years (Required)']\").text\n",
    "\n"
   ]
  },
  {
   "cell_type": "code",
   "execution_count": 56,
   "id": "5a8a29f1",
   "metadata": {},
   "outputs": [],
   "source": [
    "sk1 = driver.find_element(By.XPATH,\"//p[contains(text(),'· Experience with Web')]\").text\n",
    "sk2 = driver.find_element(By.XPATH,\"//p[contains(text(),'· Significant')]\").text\n",
    "sk3 = driver.find_element(By.XPATH,\"//p[contains(text(),'· Thorough')]\").text\n",
    "sk4 = driver.find_element(By.XPATH,\"//p[contains(text(),'· Familiarity')]\").text\n",
    "sk5 = driver.find_element(By.XPATH,\"//p[contains(text(),'· Experience in')]\").text\n"
   ]
  },
  {
   "cell_type": "markdown",
   "id": "67616e93",
   "metadata": {},
   "source": [
    "# Output "
   ]
  },
  {
   "cell_type": "code",
   "execution_count": 66,
   "id": "aacb274d",
   "metadata": {},
   "outputs": [
    {
     "name": "stdout",
     "output_type": "stream",
     "text": [
      "Company_name: Calyx\n",
      "Job_title: Java Developer\n",
      "Location: Hyderabad, Telangana\n",
      "Salary: ₹3,35,796 - ₹11,50,000 a year\n",
      "Experience: Java: 2 years (Required)\n",
      "Education: Bachelor's (Required)\n",
      "Skills: · Experience with Web Applications/JAVA/Servlets/JSP/Struts/Hibernate. · Significant experience interfacing with large scale Oracle projects. · Thorough understanding of tiered architectures and user interface design. · Familiarity with FDA regulations such as 21 CFR Part 11 and GxP helpful, but not required. · Experience in bio-medical, medical imaging, and clinical trials data management are desirable\n"
     ]
    }
   ],
   "source": [
    "print('Company_name:',comp)\n",
    "print('Job_title:',title)\n",
    "print('Location:',loc)\n",
    "print('Salary:',sal)\n",
    "print('Experience:',q2)\n",
    "print('Education:',q1)\n",
    "print('Skills:',sk1,sk2,sk3,sk4,sk5)"
   ]
  },
  {
   "cell_type": "code",
   "execution_count": null,
   "id": "fa5f71cd",
   "metadata": {},
   "outputs": [],
   "source": []
  },
  {
   "cell_type": "code",
   "execution_count": null,
   "id": "0bc01afe",
   "metadata": {},
   "outputs": [],
   "source": []
  }
 ],
 "metadata": {
  "kernelspec": {
   "display_name": "Python 3 (ipykernel)",
   "language": "python",
   "name": "python3"
  },
  "language_info": {
   "codemirror_mode": {
    "name": "ipython",
    "version": 3
   },
   "file_extension": ".py",
   "mimetype": "text/x-python",
   "name": "python",
   "nbconvert_exporter": "python",
   "pygments_lexer": "ipython3",
   "version": "3.9.7"
  }
 },
 "nbformat": 4,
 "nbformat_minor": 5
}
